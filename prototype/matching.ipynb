{
 "cells": [
  {
   "cell_type": "markdown",
   "id": "fa313e71-14fc-44d8-b7d3-084bc4a082c4",
   "metadata": {},
   "source": [
    "# Learny Matching Prototype"
   ]
  },
  {
   "cell_type": "markdown",
   "id": "6e38f2c4-f6cc-49b8-b836-26b71a828cdc",
   "metadata": {},
   "source": [
    "https://kindlespark.sg/tuition/tutors/\n",
    "\n",
    "Data gathered from Kindlespark (KS):\n",
    "\n",
    "- KS POC\n",
    "- Tutee Index (anonymous)\n",
    "- Gender\n",
    "- Level in 2023\n",
    "- Subjects\n",
    "- Financial Aid\n",
    "- Availability\n",
    "- Remarks\n",
    "\n",
    "Observations from remarks:\n",
    "\n",
    "- Siblings\n",
    "- Special request (e.g. Female tutor, 3-5pm weekdays; unavailable on weekends)"
   ]
  },
  {
   "cell_type": "code",
   "execution_count": 10,
   "id": "5b7a7b51-21c4-4e9d-bb35-3d1295f8a937",
   "metadata": {},
   "outputs": [
    {
     "name": "stdout",
     "output_type": "stream",
     "text": [
      "Collecting package metadata (current_repodata.json): done\n",
      "Solving environment: / \n",
      "The environment is inconsistent, please check the package plan carefully\n",
      "The following packages are causing the inconsistency:\n",
      "\n",
      "  - conda-forge/noarch::altair==4.2.0=pyhd8ed1ab_1\n",
      "failed with initial frozen solve. Retrying with flexible solve.\n",
      "Solving environment: failed with repodata from current_repodata.json, will retry with next repodata source.\n",
      "Collecting package metadata (repodata.json): done\n",
      "Solving environment: | ^C\n",
      "failed with initial frozen solve. Retrying with flexible solve.\n",
      "\n",
      "CondaError: KeyboardInterrupt\n",
      "\n",
      "/opt/conda/bin/python: can't open file '/home/jovyan/work/personal/learny/prototype/jupyter': [Errno 2] No such file or directory\n"
     ]
    }
   ],
   "source": [
    "import sys\n",
    "!conda install --yes --prefix {sys.prefix} faker mimesis ipywidgets\n",
    "!{sys.executable} jupyter nbextension enable --py widgetsnbextension\n",
    "\n"
   ]
  },
  {
   "cell_type": "code",
   "execution_count": 2,
   "id": "aca120c4-8e56-4e14-a29e-c728dc8cf754",
   "metadata": {},
   "outputs": [],
   "source": [
    "import pandas as pd\n",
    "import random\n",
    "from mimesis import Person\n"
   ]
  },
  {
   "cell_type": "markdown",
   "id": "3cc165d5-d2a2-4c23-aa33-00e59d8974a7",
   "metadata": {},
   "source": [
    "## Fake some Data"
   ]
  },
  {
   "cell_type": "markdown",
   "id": "73a6833f-2750-425a-95a2-436eb740cfe3",
   "metadata": {},
   "source": [
    "https://towardsdatascience.com/interactive-controls-for-jupyter-notebooks-f5c94829aee6## Matching (Filtering) Algorithm"
   ]
  },
  {
   "cell_type": "code",
   "execution_count": 3,
   "id": "a97b837e-f743-4aeb-9590-31439e35728d",
   "metadata": {},
   "outputs": [
    {
     "data": {
      "text/plain": [
       "'S3'"
      ]
     },
     "execution_count": 3,
     "metadata": {},
     "output_type": "execute_result"
    }
   ],
   "source": [
    "levels = ['P1', 'P2', 'P3', 'P4', 'P5', 'P6', 'S1', 'S2', 'S3', 'S4']\n",
    "random.choice(levels)"
   ]
  },
  {
   "cell_type": "code",
   "execution_count": 6,
   "id": "fdf3a741-3c67-4c3e-a451-ceb35a1fd0b4",
   "metadata": {},
   "outputs": [
    {
     "data": {
      "text/html": [
       "<div>\n",
       "<style scoped>\n",
       "    .dataframe tbody tr th:only-of-type {\n",
       "        vertical-align: middle;\n",
       "    }\n",
       "\n",
       "    .dataframe tbody tr th {\n",
       "        vertical-align: top;\n",
       "    }\n",
       "\n",
       "    .dataframe thead th {\n",
       "        text-align: right;\n",
       "    }\n",
       "</style>\n",
       "<table border=\"1\" class=\"dataframe\">\n",
       "  <thead>\n",
       "    <tr style=\"text-align: right;\">\n",
       "      <th></th>\n",
       "      <th>name</th>\n",
       "      <th>level</th>\n",
       "      <th>subjects</th>\n",
       "      <th>financial_aid</th>\n",
       "      <th>availability</th>\n",
       "    </tr>\n",
       "  </thead>\n",
       "  <tbody>\n",
       "    <tr>\n",
       "      <th>0</th>\n",
       "      <td>Rodolfo Elliott</td>\n",
       "      <td>S4</td>\n",
       "      <td>1</td>\n",
       "      <td>True</td>\n",
       "      <td>True</td>\n",
       "    </tr>\n",
       "    <tr>\n",
       "      <th>1</th>\n",
       "      <td>Rosenda Walker</td>\n",
       "      <td>S2</td>\n",
       "      <td>1</td>\n",
       "      <td>True</td>\n",
       "      <td>False</td>\n",
       "    </tr>\n",
       "    <tr>\n",
       "      <th>2</th>\n",
       "      <td>Evan Kirk</td>\n",
       "      <td>P3</td>\n",
       "      <td>1</td>\n",
       "      <td>True</td>\n",
       "      <td>False</td>\n",
       "    </tr>\n",
       "    <tr>\n",
       "      <th>3</th>\n",
       "      <td>Dwight Valdez</td>\n",
       "      <td>P2</td>\n",
       "      <td>1</td>\n",
       "      <td>True</td>\n",
       "      <td>True</td>\n",
       "    </tr>\n",
       "    <tr>\n",
       "      <th>4</th>\n",
       "      <td>Tomas Freeman</td>\n",
       "      <td>S1</td>\n",
       "      <td>1</td>\n",
       "      <td>True</td>\n",
       "      <td>True</td>\n",
       "    </tr>\n",
       "    <tr>\n",
       "      <th>...</th>\n",
       "      <td>...</td>\n",
       "      <td>...</td>\n",
       "      <td>...</td>\n",
       "      <td>...</td>\n",
       "      <td>...</td>\n",
       "    </tr>\n",
       "    <tr>\n",
       "      <th>95</th>\n",
       "      <td>Sena Garrison</td>\n",
       "      <td>P3</td>\n",
       "      <td>1</td>\n",
       "      <td>True</td>\n",
       "      <td>True</td>\n",
       "    </tr>\n",
       "    <tr>\n",
       "      <th>96</th>\n",
       "      <td>Willard Soto</td>\n",
       "      <td>S2</td>\n",
       "      <td>1</td>\n",
       "      <td>True</td>\n",
       "      <td>True</td>\n",
       "    </tr>\n",
       "    <tr>\n",
       "      <th>97</th>\n",
       "      <td>Mila Rodriguez</td>\n",
       "      <td>S4</td>\n",
       "      <td>1</td>\n",
       "      <td>True</td>\n",
       "      <td>False</td>\n",
       "    </tr>\n",
       "    <tr>\n",
       "      <th>98</th>\n",
       "      <td>Chong Cantrell</td>\n",
       "      <td>P3</td>\n",
       "      <td>1</td>\n",
       "      <td>True</td>\n",
       "      <td>True</td>\n",
       "    </tr>\n",
       "    <tr>\n",
       "      <th>99</th>\n",
       "      <td>Cody Stafford</td>\n",
       "      <td>P5</td>\n",
       "      <td>1</td>\n",
       "      <td>True</td>\n",
       "      <td>False</td>\n",
       "    </tr>\n",
       "  </tbody>\n",
       "</table>\n",
       "<p>100 rows × 5 columns</p>\n",
       "</div>"
      ],
      "text/plain": [
       "               name level  subjects  financial_aid  availability\n",
       "0   Rodolfo Elliott    S4         1           True          True\n",
       "1    Rosenda Walker    S2         1           True         False\n",
       "2         Evan Kirk    P3         1           True         False\n",
       "3     Dwight Valdez    P2         1           True          True\n",
       "4     Tomas Freeman    S1         1           True          True\n",
       "..              ...   ...       ...            ...           ...\n",
       "95    Sena Garrison    P3         1           True          True\n",
       "96     Willard Soto    S2         1           True          True\n",
       "97   Mila Rodriguez    S4         1           True         False\n",
       "98   Chong Cantrell    P3         1           True          True\n",
       "99    Cody Stafford    P5         1           True         False\n",
       "\n",
       "[100 rows x 5 columns]"
      ]
     },
     "execution_count": 6,
     "metadata": {},
     "output_type": "execute_result"
    }
   ],
   "source": [
    "person = Person()\n",
    "\n",
    "def create_row():\n",
    "    return {\n",
    "        'name': person.full_name(),\n",
    "        'level': random.choice(levels),\n",
    "        'subjects': 1,\n",
    "        'financial_aid': True,\n",
    "        'availability': random.choice([True,False]),\n",
    "    }\n",
    "\n",
    "df = pd.DataFrame([create_row() for i in range(100)])\n",
    "df"
   ]
  },
  {
   "cell_type": "code",
   "execution_count": 9,
   "id": "4741097c-afe7-49bc-9600-8b2d3ca3b7c8",
   "metadata": {},
   "outputs": [
    {
     "ename": "NameError",
     "evalue": "name 'interact' is not defined",
     "output_type": "error",
     "traceback": [
      "\u001b[0;31m---------------------------------------------------------------------------\u001b[0m",
      "\u001b[0;31mNameError\u001b[0m                                 Traceback (most recent call last)",
      "Cell \u001b[0;32mIn[9], line 1\u001b[0m\n\u001b[0;32m----> 1\u001b[0m \u001b[38;5;129m@interact\u001b[39m\n\u001b[1;32m      2\u001b[0m \u001b[38;5;28;01mdef\u001b[39;00m \u001b[38;5;21mshow_filter\u001b[39m(column\u001b[38;5;241m=\u001b[39mlevels, level\u001b[38;5;241m=\u001b[39m\u001b[38;5;124m'\u001b[39m\u001b[38;5;124mP1\u001b[39m\u001b[38;5;124m'\u001b[39m):\n\u001b[1;32m      3\u001b[0m     \u001b[38;5;28;01mreturn\u001b[39;00m df\u001b[38;5;241m.\u001b[39mloc[df[column] \u001b[38;5;241m==\u001b[39m level]\n",
      "\u001b[0;31mNameError\u001b[0m: name 'interact' is not defined"
     ]
    }
   ],
   "source": [
    "@interact\n",
    "def show_filter(column=levels, level='P1'):\n",
    "    return df.loc[df[column] == level]"
   ]
  }
 ],
 "metadata": {
  "kernelspec": {
   "display_name": "Python 3 (ipykernel)",
   "language": "python",
   "name": "python3"
  },
  "language_info": {
   "codemirror_mode": {
    "name": "ipython",
    "version": 3
   },
   "file_extension": ".py",
   "mimetype": "text/x-python",
   "name": "python",
   "nbconvert_exporter": "python",
   "pygments_lexer": "ipython3",
   "version": "3.10.8"
  }
 },
 "nbformat": 4,
 "nbformat_minor": 5
}
