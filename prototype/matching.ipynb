{
 "cells": [
  {
   "cell_type": "markdown",
   "id": "fa313e71-14fc-44d8-b7d3-084bc4a082c4",
   "metadata": {},
   "source": [
    "# Learny Matching Prototype"
   ]
  },
  {
   "cell_type": "markdown",
   "id": "6e38f2c4-f6cc-49b8-b836-26b71a828cdc",
   "metadata": {},
   "source": [
    "https://kindlespark.sg/tuition/tutors/\n",
    "\n",
    "Data gathered from Kindlespark (KS):\n",
    "\n",
    "- KS POC\n",
    "- Tutee Index (anonymous)\n",
    "- Gender\n",
    "- Level in 2023\n",
    "- Subjects\n",
    "- Financial Aid\n",
    "- Availability\n",
    "- Remarks\n",
    "\n",
    "Observations from remarks:\n",
    "\n",
    "- Siblings\n",
    "- Special request (e.g. Female tutor, 3-5pm weekdays; unavailable on weekends)"
   ]
  },
  {
   "cell_type": "code",
   "execution_count": 2,
   "id": "aca120c4-8e56-4e14-a29e-c728dc8cf754",
   "metadata": {},
   "outputs": [],
   "source": [
    "import pandas as pd\n",
    "from faker import Faker"
   ]
  },
  {
   "cell_type": "markdown",
   "id": "3cc165d5-d2a2-4c23-aa33-00e59d8974a7",
   "metadata": {},
   "source": [
    "## Fake some Data"
   ]
  },
  {
   "cell_type": "markdown",
   "id": "73a6833f-2750-425a-95a2-436eb740cfe3",
   "metadata": {},
   "source": [
    "## Matching (Filtering) Algorithm"
   ]
  }
 ],
 "metadata": {
  "kernelspec": {
   "display_name": "Python 3 (ipykernel)",
   "language": "python",
   "name": "python3"
  },
  "language_info": {
   "codemirror_mode": {
    "name": "ipython",
    "version": 3
   },
   "file_extension": ".py",
   "mimetype": "text/x-python",
   "name": "python",
   "nbconvert_exporter": "python",
   "pygments_lexer": "ipython3",
   "version": "3.10.8"
  }
 },
 "nbformat": 4,
 "nbformat_minor": 5
}
